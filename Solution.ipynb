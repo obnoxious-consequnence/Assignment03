{
 "cells": [
  {
   "cell_type": "markdown",
   "metadata": {},
   "source": [
    "## 2."
   ]
  },
  {
   "cell_type": "code",
   "execution_count": 9,
   "metadata": {},
   "outputs": [
    {
     "name": "stdout",
     "output_type": "stream",
     "text": [
      "[[2015    1    0 5100  614]\n",
      " [2015    1    0 5104    2]\n",
      " [2015    1    0 5106    1]\n",
      " ...\n",
      " [1992   99   89 5100    1]\n",
      " [1992   99   90 5180    1]\n",
      " [1992   99   93 5100    1]]\n"
     ]
    }
   ],
   "source": [
    "import my_module\n",
    "\n",
    "print(my_module.read_csv_file())"
   ]
  },
  {
   "cell_type": "markdown",
   "metadata": {},
   "source": [
    "## 3."
   ]
  },
  {
   "cell_type": "code",
   "execution_count": 12,
   "metadata": {},
   "outputs": [
    {
     "name": "stdout",
     "output_type": "stream",
     "text": [
      "Native English speakers\n",
      "{5142: 'Irland', 5309: 'Antigua og Barbuda', 5502: 'Australien', 5303: 'Bahamas', 5305: 'Barbados', 5526: 'Belize', 5314: 'Canada', 5326: 'Dominikanske Republik', 5339: 'Grenada', 5308: 'Guyana', 5352: 'Jamaica', 5514: 'New Zealand', 5625: 'Skt. Kitts og Nevis', 5347: 'Skt. Lucia', 5311: 'Skt. Vincent og Grenadinerne', 5374: 'Trinidad og Tobago', 5170: 'Storbritannien', 5390: 'USA'} \n",
      "\n",
      "Native English Speaking pr Year(1992-2015) \n",
      " [4736 4838 5026 5430 5698 6020 6124 6224 6332 6297 6272 6257 6196 6359\n",
      " 6299 6574 7008 7278 7674 8175 8572 8461 9323 9053] \n",
      "\n",
      "Non-native English Speaking pr Year(1992-2015) \n",
      " [459830 461291 462227 465870 471053 477638 481845 484858 489367 492851\n",
      " 494259 495028 495468 496003 494859 497125 502853 511296 520534 531367\n",
      " 540478 550979 560849 571242] \n",
      "\n"
     ]
    }
   ],
   "source": [
    "import my_module\n",
    "from data import country_codes, neighb\n",
    "\n",
    "print(\"Native English speakers\")\n",
    "print({x:country_codes[x] for x in my_module.native_english_speaking}, \"\\n\")\n",
    "\n",
    "native_english, non_english = my_module.no_english_non_english()\n",
    "\n",
    "print(\"Native English Speaking pr Year(1992-2015)\", \"\\n\", native_english, \"\\n\")\n",
    "print(\"Non-native English Speaking pr Year(1992-2015)\", \"\\n\", non_english, \"\\n\")"
   ]
  },
  {
   "cell_type": "markdown",
   "metadata": {},
   "source": [
    "## 4"
   ]
  },
  {
   "cell_type": "code",
   "execution_count": 7,
   "metadata": {},
   "outputs": [
    {
     "name": "stdout",
     "output_type": "stream",
     "text": [
      "Filter by year \n",
      "\n",
      "[[1999    1    0 5100  543]\n",
      " [1999    1    0 5103    1]\n",
      " [1999    1    0 5104    1]\n",
      " ...\n",
      " [1999   99   86 5100    1]\n",
      " [1999   99   94 5100    1]\n",
      " [1999   99  100 5100    1]]\n",
      "------------------------------\n",
      "Filter by swedes \n",
      "\n",
      "[[2015    1    0 5120    4]\n",
      " [2015    1    1 5120    4]\n",
      " [2015    1    2 5120    3]\n",
      " ...\n",
      " [1992   99   53 5120    1]\n",
      " [1992   99   54 5120    1]\n",
      " [1992   99   55 5120    1]]\n",
      "------------------------------\n"
     ]
    }
   ],
   "source": [
    "import my_module\n",
    "\n",
    "dataset = my_module.read_csv_file()\n",
    "\n",
    "swedish_mask = (dataset[:,3] == 5120)\n",
    "year_1992_mask = (dataset[:,0] == 1999) \n",
    "\n",
    "print(\"Filter by year\", \"\\n\")\n",
    "print(my_module.filtered_data(dataset, year_1992_mask))\n",
    "print(\"-\"*30)\n",
    "\n",
    "print(\"Filter by swedes\", \"\\n\")\n",
    "print(my_module.filtered_data(dataset, swedish_mask))\n",
    "print(\"-\"*30)"
   ]
  },
  {
   "cell_type": "markdown",
   "metadata": {},
   "source": [
    "## 5"
   ]
  },
  {
   "cell_type": "code",
   "execution_count": 1,
   "metadata": {},
   "outputs": [
    {
     "name": "stdout",
     "output_type": "stream",
     "text": [
      "[[    1992     1993     1994     1995     1996     1997     1998     1999\n",
      "      2000     2001     2002     2003     2004     2005     2006     2007\n",
      "      2008     2009     2010     2011     2012     2013     2014     2015]\n",
      " [  464566   930695  1397948  1869248  2345999  2829657  3317626  3808708\n",
      "   4304407  4803555  5304086  5805371  6307035  6809397  7310555  7814254\n",
      "   8324115  8842689  9370897  9910439 10459489 11018929 11589101 12169396]]\n"
     ]
    }
   ],
   "source": [
    "import my_module\n",
    "\n",
    "dataset = my_module.read_csv_file()\n",
    "\n",
    "print(my_module.get_data_by_x(dataset, 0))"
   ]
  }
 ],
 "metadata": {
  "kernelspec": {
   "display_name": "Python 3",
   "language": "python",
   "name": "python3"
  },
  "language_info": {
   "codemirror_mode": {
    "name": "ipython",
    "version": 3
   },
   "file_extension": ".py",
   "mimetype": "text/x-python",
   "name": "python",
   "nbconvert_exporter": "python",
   "pygments_lexer": "ipython3",
   "version": "3.7.1"
  }
 },
 "nbformat": 4,
 "nbformat_minor": 2
}
